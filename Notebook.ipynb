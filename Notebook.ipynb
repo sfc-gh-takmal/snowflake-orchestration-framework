{
 "cells": [
  {
   "cell_type": "code",
   "execution_count": 8,
   "metadata": {},
   "outputs": [],
   "source": [
    "# Import required libraries and setup Snowflake connection\n",
    "# Configure logging for the Agent Gateway\n",
    "# Set up Snowflake connection parameters from environment variables\n",
    "# These parameters are loaded from .env file or environment variables\n",
    "# Create a Snowflake session using the configured parameters\n",
    "\n",
    "from agent_gateway import Agent\n",
    "from agent_gateway.tools import CortexSearchTool, CortexAnalystTool, PythonTool\n",
    "from snowflake.snowpark import Session\n",
    "import os\n",
    "import logging\n",
    "\n",
    "logging.getLogger(\"AgentGatewayLogger\").setLevel(logging.INFO)\n",
    "\n",
    "connection_parameters = {\n",
    "    \"account\": os.getenv(\"SNOWFLAKE_ACCOUNT\"),\n",
    "    \"user\": os.getenv(\"SNOWFLAKE_USER\"),\n",
    "    \"password\": os.getenv(\"SNOWFLAKE_PASSWORD\"),\n",
    "    \"role\": os.getenv(\"SNOWFLAKE_ROLE\"),\n",
    "    \"warehouse\": os.getenv(\"SNOWFLAKE_WAREHOUSE\"),\n",
    "    \"database\": os.getenv(\"SNOWFLAKE_DATABASE\"),\n",
    "    \"schema\": os.getenv(\"SNOWFLAKE_SCHEMA\"),\n",
    "}\n",
    "\n",
    "session = Session.builder.configs(connection_parameters).create()"
   ]
  },
  {
   "cell_type": "code",
   "execution_count": 9,
   "metadata": {},
   "outputs": [],
   "source": [
    "from IPython.display import HTML\n",
    "import requests, json\n",
    "import yfinance as yf\n",
    "import pandas as pd\n",
    "\n",
    "# Import required libraries for stock data retrieval and display\n",
    "# StockTool class implementation for fetching real-time stock market data\n",
    "\n",
    "class StockTool:\n",
    "    def __init__(self) -> None:\n",
    "        pass\n",
    "\n",
    "    def stock_search(self, ticker: str) -> str:\n",
    "        \"\"\"Get current stock information for a given ticker\"\"\"\n",
    "        try:\n",
    "            # Get stock info using fast_info\n",
    "            stock = yf.Ticker(ticker)\n",
    "            info = stock.fast_info\n",
    "\n",
    "            # Create Yahoo Finance URL for the ticker\n",
    "            url = f\"https://finance.yahoo.com/quote/{ticker}\"\n",
    "            # Create HTML link\n",
    "            html_link = f'<a href=\"{url}\" target=\"_blank\">{url}</a>'\n",
    "\n",
    "            # Extract relevant information\n",
    "            current_price = info.last_price\n",
    "            previous_close = info.previous_close\n",
    "            market_cap = info.market_cap\n",
    "\n",
    "            # Format market cap to be more readable\n",
    "            if isinstance(market_cap, (int, float)):\n",
    "                market_cap = f\"${market_cap/1000000000:.2f}B\"\n",
    "\n",
    "            # Create detailed response\n",
    "            response = (\n",
    "                f\"Stock information for {ticker}:\\n\"\n",
    "                f\"Current Price: ${current_price}\\n\"\n",
    "                f\"Previous Close: ${previous_close}\\n\"\n",
    "                f\"Market Cap: {market_cap}\\n\"\n",
    "                f\"Exchange Timezone: {info.timezone}\\n\"\n",
    "                f\"\\nSource: {html_link}\"\n",
    "            )\n",
    "\n",
    "            # Display HTML link in notebook\n",
    "            display(HTML(html_link))\n",
    "\n",
    "            return response\n",
    "        except Exception as e:\n",
    "            return f\"Error fetching data for {ticker}: {str(e)}\"\n",
    "\n",
    "\n",
    "# Stock tool configuration\n",
    "stock_config = {\n",
    "    \"tool_description\": \"searches for current stock market data based on ticker symbol\",\n",
    "    \"output_description\": \"current stock price, previous close, and market cap information\",\n",
    "    \"python_func\": StockTool().stock_search,\n",
    "}"
   ]
  },
  {
   "cell_type": "code",
   "execution_count": 10,
   "metadata": {},
   "outputs": [],
   "source": [
    "# Configuration for Cortex Analyst Tool\n",
    "# Used for analyzing sales metrics and data from Snowflake\n",
    "analyst_config = {\n",
    "    \"semantic_model\": \"SALES_MODEL.yaml\",\n",
    "    \"stage\": \"ANALYST\",\n",
    "    \"service_topic\": (\n",
    "        \"Comprehensive Sales Analytics and Marketing Performance: \"\n",
    "        \"analyzing orders, revenue, marketing spend, customer segments, and promotions \"\n",
    "        \"across various geographies and product categories.\"\n",
    "    ),\n",
    "    \"data_description\": (\n",
    "        \"This dataset (SALES_DATA) provides a unified view of customer orders—\"\n",
    "        \"including demographics, revenue, marketing spend (ad/promotion costs), and \"\n",
    "        \"payment details. With dimensional coverage for geography (COUNTRY), promotions (SALES_PROMOTION), \"\n",
    "        \"product categories (PRODUCT_CATEGORY), and customer segments (CUSTOMER_SEGMENT), \"\n",
    "        \"it facilitates queries related to total orders, revenue, promotional effectiveness, \"\n",
    "        \"marketing ROI, and product lifecycles. Time-based analysis is enabled via ORDER_DATE, \"\n",
    "        \"and measures such as REVENUE, MARKETING_SPEND, and PRODUCT_AGE allow for \"\n",
    "        \"in-depth exploration of sales performance.\"\n",
    "    ),\n",
    "    \"snowflake_connection\": session,\n",
    "}\n",
    "\n",
    "\n",
    "# Configuration for Knowledge Base Article (KBA) Search Tool\n",
    "# Used for searching and retrieving information from knowledge base articles\n",
    "search_config = {\n",
    "    \"service_name\": \"KBA\",  # matches existing service name\n",
    "    \"service_topic\": (\n",
    "        \"Comprehensive Knowledge Base on Product Campaigns, Launches, and Loyalty Programs \"\n",
    "        \"across various markets and categories.\"\n",
    "    ),\n",
    "    \"data_description\": (\n",
    "        \"A suite of internal documentation covering upcoming marketing campaigns, product launches, \"\n",
    "        \"payment options, loyalty initiatives, and regional strategies. These articles provide \"\n",
    "        \"implementation details, timelines, eligibility requirements, and promotional insights \"\n",
    "        \"for diverse categories such as Books, Beauty, and Toys.\"\n",
    "    ),\n",
    "    \"retrieval_columns\": [\"CHUNK\"],\n",
    "    \"snowflake_connection\": session,\n",
    "}\n",
    "\n",
    "\n",
    "# Configuration for Stock Market Data Tool\n",
    "# Used for real-time stock market data retrieval\n",
    "stock_config = {\n",
    "    \"tool_description\": \"searches for current stock market data based on ticker symbol\",\n",
    "    \"output_description\": \"current stock price, previous close, and market cap information\",\n",
    "    \"python_func\": StockTool().stock_search,\n",
    "}"
   ]
  },
  {
   "cell_type": "code",
   "execution_count": null,
   "metadata": {},
   "outputs": [],
   "source": [
    "# Initialize individual tools with their respective configurations\n",
    "# Create an agent that combines all tools for unified access\n",
    "# Set max_retries to 3 for handling temporary failures\n",
    "\n",
    "sales = CortexAnalystTool(**analyst_config)\n",
    "kba = CortexSearchTool(**search_config)\n",
    "stock_search = PythonTool(**stock_config)\n",
    "\n",
    "snowflake_tools = [sales, kba, stock_search]\n",
    "agent = Agent(snowflake_connection=session, tools=snowflake_tools, max_retries=3)"
   ]
  },
  {
   "cell_type": "markdown",
   "metadata": {},
   "source": [
    "## Structured Data"
   ]
  },
  {
   "cell_type": "code",
   "execution_count": 12,
   "metadata": {},
   "outputs": [
    {
     "name": "stderr",
     "output_type": "stream",
     "text": [
      "INFO:AgentGatewayLogger:running SALES_MODEL_cortexanalyst task\n"
     ]
    },
    {
     "data": {
      "text/plain": [
       "'The total revenue for the toy category is $428,441.00.'"
      ]
     },
     "execution_count": 12,
     "metadata": {},
     "output_type": "execute_result"
    }
   ],
   "source": [
    "agent(\"what is total revenue for the toy category?\")"
   ]
  },
  {
   "cell_type": "code",
   "execution_count": 13,
   "metadata": {},
   "outputs": [
    {
     "name": "stderr",
     "output_type": "stream",
     "text": [
      "INFO:AgentGatewayLogger:running SALES_MODEL_cortexanalyst task\n"
     ]
    },
    {
     "data": {
      "text/plain": [
       "'The total revenue for the toy category broken out by country is as follows: UK - $75,120, Australia - $63,762, France - $62,887, Germany - $62,206, USA - $58,041, Japan - $57,221, Canada - $49,204.'"
      ]
     },
     "execution_count": 13,
     "metadata": {},
     "output_type": "execute_result"
    }
   ],
   "source": [
    "agent(\"break it out by country\")\n"
   ]
  },
  {
   "cell_type": "markdown",
   "metadata": {},
   "source": [
    "## Unstructured Data"
   ]
  },
  {
   "cell_type": "code",
   "execution_count": 16,
   "metadata": {},
   "outputs": [
    {
     "name": "stderr",
     "output_type": "stream",
     "text": [
      "INFO:AgentGatewayLogger:running SALES_MODEL_cortexanalyst task\n",
      "ERROR:AgentGatewayLogger:Your request is unclear. Consider rephrasing your request to one of the following suggestions:['Which country had the highest revenue for beauty products last holiday season?', 'Which country had the most orders for beauty products last holiday season?', 'Which country had the highest marketing spend for beauty products last holiday season?']\n",
      "ERROR:AgentGatewayLogger:{'content': [{'text': \"I apologize, but the question 'Which country is the \"\n",
      "                      \"beauty holiday collection launching in?' is unclear \"\n",
      "                      'because it does not specify any data points or criteria '\n",
      "                      'that can be used to determine the launch country from '\n",
      "                      'the given schema. The schema does not contain '\n",
      "                      'information about product launches or specific '\n",
      "                      'collections.',\n",
      "              'type': 'text'},\n",
      "             {'suggestions': ['Which country had the highest revenue for '\n",
      "                              'beauty products last holiday season?',\n",
      "                              'Which country had the most orders for beauty '\n",
      "                              'products last holiday season?',\n",
      "                              'Which country had the highest marketing spend '\n",
      "                              'for beauty products last holiday season?'],\n",
      "              'type': 'suggestions'}],\n",
      " 'role': 'analyst'}\n",
      "INFO:AgentGatewayLogger:running kba_cortexsearch task\n",
      "INFO:AgentGatewayLogger:running SALES_MODEL_cortexanalyst task\n",
      "INFO:AgentGatewayLogger:running summarize task\n"
     ]
    },
    {
     "data": {
      "text/plain": [
       "'Germany'"
      ]
     },
     "execution_count": 16,
     "metadata": {},
     "output_type": "execute_result"
    }
   ],
   "source": [
    "agent(\"Which country is the beauty holiday collection launching in\")"
   ]
  },
  {
   "cell_type": "markdown",
   "metadata": {},
   "source": [
    "## Unstructured Data + Structured Data"
   ]
  },
  {
   "cell_type": "code",
   "execution_count": 17,
   "metadata": {},
   "outputs": [
    {
     "name": "stderr",
     "output_type": "stream",
     "text": [
      "INFO:AgentGatewayLogger:running SALES_MODEL_cortexanalyst task\n",
      "ERROR:AgentGatewayLogger:Unable to generate a valid SQL Query. I apologize, but the question 'Which country is the beauty holiday collection launching in?' is unclear because it does not specify any data points or criteria that can be used to determine the launch country from the given schema. The schema does not contain information about product launches or specific collections.\n",
      "ERROR:AgentGatewayLogger:{'content': [{'text': \"I apologize, but the question 'Which country is the \"\n",
      "                      \"beauty holiday collection launching in?' is unclear \"\n",
      "                      'because it does not specify any data points or criteria '\n",
      "                      'that can be used to determine the launch country from '\n",
      "                      'the given schema. The schema does not contain '\n",
      "                      'information about product launches or specific '\n",
      "                      'collections.',\n",
      "              'type': 'text'}],\n",
      " 'role': 'analyst'}\n",
      "INFO:AgentGatewayLogger:running SALES_MODEL_cortexanalyst task\n",
      "ERROR:AgentGatewayLogger:Unable to generate a valid SQL Query. I apologize, but the question 'What is the total revenue for the country identified in Unexpected error during Cortex Gateway Tool request' is unclear because it does not specify the country for which the total revenue is being requested.\n",
      "ERROR:AgentGatewayLogger:{'content': [{'text': \"I apologize, but the question 'What is the total \"\n",
      "                      'revenue for the country identified in Unexpected error '\n",
      "                      \"during Cortex Gateway Tool request' is unclear because \"\n",
      "                      'it does not specify the country for which the total '\n",
      "                      'revenue is being requested.',\n",
      "              'type': 'text'}],\n",
      " 'role': 'analyst'}\n",
      "INFO:AgentGatewayLogger:running kba_cortexsearch task\n",
      "INFO:AgentGatewayLogger:running summarize task\n",
      "INFO:AgentGatewayLogger:running SALES_MODEL_cortexanalyst task\n"
     ]
    },
    {
     "data": {
      "text/plain": [
       "'The beauty holiday collection is launching in Germany. The total revenue for Germany is $392,196.'"
      ]
     },
     "execution_count": 17,
     "metadata": {},
     "output_type": "execute_result"
    }
   ],
   "source": [
    "agent(\"Which country is the beauty holiday collection launching in? What is the total revenue for that country?\")"
   ]
  },
  {
   "cell_type": "markdown",
   "metadata": {},
   "source": [
    "## Stock Tool"
   ]
  },
  {
   "cell_type": "code",
   "execution_count": 18,
   "metadata": {},
   "outputs": [
    {
     "name": "stderr",
     "output_type": "stream",
     "text": [
      "INFO:AgentGatewayLogger:running stock_search task\n",
      "INFO:AgentGatewayLogger:running SALES_MODEL_cortexanalyst task\n"
     ]
    },
    {
     "data": {
      "text/html": [
       "<a href=\"https://finance.yahoo.com/quote/HAS\" target=\"_blank\">https://finance.yahoo.com/quote/HAS</a>"
      ],
      "text/plain": [
       "<IPython.core.display.HTML object>"
      ]
     },
     "metadata": {},
     "output_type": "display_data"
    },
    {
     "data": {
      "text/plain": [
       "'The stock price of Hasbro is $59.56, and the total revenue in the toy category from January 1, 2023, to January 1, 2025, is $428,441.'"
      ]
     },
     "execution_count": 18,
     "metadata": {},
     "output_type": "execute_result"
    }
   ],
   "source": [
    "agent(\"What is the stock price of Hasbro and what was the total revenue in the toy category?\")"
   ]
  },
  {
   "cell_type": "code",
   "execution_count": 19,
   "metadata": {},
   "outputs": [
    {
     "name": "stderr",
     "output_type": "stream",
     "text": [
      "INFO:AgentGatewayLogger:running stock_search task\n"
     ]
    },
    {
     "data": {
      "text/html": [
       "<a href=\"https://finance.yahoo.com/quote/NVDA\" target=\"_blank\">https://finance.yahoo.com/quote/NVDA</a>"
      ],
      "text/plain": [
       "<IPython.core.display.HTML object>"
      ]
     },
     "metadata": {},
     "output_type": "display_data"
    },
    {
     "data": {
      "text/plain": [
       "'The current stock price of Nvidia is $124.65.'"
      ]
     },
     "execution_count": 19,
     "metadata": {},
     "output_type": "execute_result"
    }
   ],
   "source": [
    "agent(\"What is the stock price of Nvidia?\")\n",
    "\n"
   ]
  }
 ],
 "metadata": {
  "kernelspec": {
   "display_name": ".venv",
   "language": "python",
   "name": "python3"
  },
  "language_info": {
   "codemirror_mode": {
    "name": "ipython",
    "version": 3
   },
   "file_extension": ".py",
   "mimetype": "text/x-python",
   "name": "python",
   "nbconvert_exporter": "python",
   "pygments_lexer": "ipython3",
   "version": "3.11.10"
  }
 },
 "nbformat": 4,
 "nbformat_minor": 2
}
